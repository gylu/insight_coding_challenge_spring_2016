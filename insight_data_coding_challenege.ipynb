{
 "cells": [
  {
   "cell_type": "code",
   "execution_count": 35,
   "metadata": {
    "collapsed": false
   },
   "outputs": [
    {
     "name": "stdout",
     "output_type": "stream",
     "text": [
      "[('ht1', 'h2'), ('ht1', 'c'), ('ht1', 'd'), ('h2', 'c'), ('h2', 'd'), ('c', 'd')]\n",
      "['ht1', 'c']\n",
      "['c', 'ht1']\n"
     ]
    }
   ],
   "source": [
    "from itertools import combinations\n",
    "output=list(combinations(['ht1','h2','c','d'],2))\n",
    "print(output)\n",
    "output_item=list(output[1])\n",
    "print(output_item)\n",
    "output_item.sort()\n",
    "print(output_item)"
   ]
  },
  {
   "cell_type": "code",
   "execution_count": null,
   "metadata": {
    "collapsed": true
   },
   "outputs": [],
   "source": []
  },
  {
   "cell_type": "code",
   "execution_count": null,
   "metadata": {
    "collapsed": true
   },
   "outputs": [],
   "source": []
  }
 ],
 "metadata": {
  "kernelspec": {
   "display_name": "Python 3",
   "language": "python",
   "name": "python3"
  },
  "language_info": {
   "codemirror_mode": {
    "name": "ipython",
    "version": 3
   },
   "file_extension": ".py",
   "mimetype": "text/x-python",
   "name": "python",
   "nbconvert_exporter": "python",
   "pygments_lexer": "ipython3",
   "version": "3.5.1"
  }
 },
 "nbformat": 4,
 "nbformat_minor": 0
}
