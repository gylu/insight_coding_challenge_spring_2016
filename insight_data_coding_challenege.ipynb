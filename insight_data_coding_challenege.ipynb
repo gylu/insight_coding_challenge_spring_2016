{
 "cells": [
  {
   "cell_type": "code",
   "execution_count": 14,
   "metadata": {
    "collapsed": false
   },
   "outputs": [],
   "source": [
    "# Things to be done:\n",
    "# 1. Build graph: e.g. list of edges with time stamp: \"hashtags = [Spark , Apache],        created_at: Thu Mar 24 17:51:10 +0000 2016\"\n",
    "## 1a. maintain list of valid nodes\n",
    "# 2. count degree for each edge for each node\n",
    "# 3. Find average\n",
    "\n",
    "import sys\n",
    "import os\n",
    "import json #use for json parser\n",
    "\n",
    "#Note: From the way run.sh is called:\n",
    "#print(sys.argv[0]) #will be the name of this script: average_degree.py\n",
    "#print(sys.argv[1]) #will be ./tweet_input/tweets.txt \n",
    "#print(sys.argv[2]) #Will be ./tweet_output/output.txt\n",
    "\n",
    "#todo replace:\n",
    "# sys_argv0 replace for sys.argv[0]\n",
    "# sys_argv1\n",
    "# sys_argv2\n",
    "sys_argv1 = './tweet_input/tweets.txt'\n",
    "sys_argv2 = './tweet_output/output.txt'\n",
    "\n",
    "#1. clear out old ./tweet_output/tweets.txt file\n",
    "if os.path.exists(sys_argv2):\n",
    "    os.remove(sys_argv2) #note that the location is based on where run.sh was called\n",
    "\n",
    "#Parse the input file\n",
    "#tweets_file = open(sys.argv[1])\n",
    "#tweets_json_format=json.load(tweets_file)\n",
    "\n",
    "tweets = []\n",
    "for line in open(sys_argv1, 'r'):\n",
    "    tweets.append(json.loads(line))\n",
    "\n",
    "# get_tweet\n",
    "# check_timestamp\n",
    "#     if (older than 60 sec from newest?)\n",
    "#         call throw out\n",
    "#     else\n",
    "#         newer than newest? \n",
    "#             update newest\n",
    "#             run throw out oldest\n",
    "#         older than oldest? update oldest"
   ]
  },
  {
   "cell_type": "code",
   "execution_count": null,
   "metadata": {
    "collapsed": true
   },
   "outputs": [],
   "source": []
  },
  {
   "cell_type": "code",
   "execution_count": null,
   "metadata": {
    "collapsed": true
   },
   "outputs": [],
   "source": []
  }
 ],
 "metadata": {
  "kernelspec": {
   "display_name": "Python 3",
   "language": "python",
   "name": "python3"
  },
  "language_info": {
   "codemirror_mode": {
    "name": "ipython",
    "version": 3
   },
   "file_extension": ".py",
   "mimetype": "text/x-python",
   "name": "python",
   "nbconvert_exporter": "python",
   "pygments_lexer": "ipython3",
   "version": "3.5.1"
  }
 },
 "nbformat": 4,
 "nbformat_minor": 0
}
